{
 "cells": [
  {
   "cell_type": "code",
   "execution_count": 15,
   "metadata": {},
   "outputs": [],
   "source": [
    "import os\n",
    "import sys\n",
    "from pathlib import Path\n",
    "\n",
    "# Add the local spikeinterface and simsort paths to Python path\n",
    "SPIKEINTERFACE_PATH = Path(\"/home/v-yimuzhang/spikeinterface/src\")\n",
    "SIMSORT_PATH = SPIKEINTERFACE_PATH / \"spikeinterface/sorters/simsortsrc\"\n",
    "\n",
    "if str(SPIKEINTERFACE_PATH) not in sys.path:\n",
    "    sys.path.insert(0, str(SPIKEINTERFACE_PATH))\n",
    "if str(SIMSORT_PATH) not in sys.path:\n",
    "    sys.path.insert(0, str(SIMSORT_PATH))\n",
    "\n",
    "import numpy as np\n",
    "from spikeinterface import generate\n",
    "from spikeinterface.sorters import run_sorter\n",
    "import spikeinterface.extractors as se\n",
    "import spikeinterface.widgets as sw\n",
    "from spikeinterface import create_sorting_analyzer, load_sorting_analyzer"
   ]
  },
  {
   "cell_type": "code",
   "execution_count": 2,
   "metadata": {},
   "outputs": [
    {
     "name": "stderr",
     "output_type": "stream",
     "text": [
      "/home/v-yimuzhang/spikeinterface/src/spikeinterface/core/generate.py:2258: UserWarning: generate_unit_locations(): no solution for minimum_distance=20 and max_iteration=100\n",
      "  warnings.warn(f\"generate_unit_locations(): no solution for {minimum_distance=} and {max_iteration=}\")\n"
     ]
    }
   ],
   "source": [
    "# Generate a synthetic recording using spikeinterface\n",
    "recording, sorting_true = generate.generate_ground_truth_recording(\n",
    "    num_channels=4,\n",
    "    sampling_frequency=30000,\n",
    "    durations=[30.0],  # 30 seconds\n",
    "    num_units=8\n",
    ")\n",
    "\n",
    "# # Use an example .plx recording file to test SimSort\n",
    "# recording_file = os.path.join(SIMSORT_PATH, 'custom_data/4chTetrodeDemoPLX.plx')\n",
    "# recording = se.PlexonRecordingExtractor(recording_file, stream_name='TETWB')"
   ]
  },
  {
   "cell_type": "code",
   "execution_count": 3,
   "metadata": {},
   "outputs": [
    {
     "name": "stdout",
     "output_type": "stream",
     "text": [
      "write_binary_recording \n",
      "engine=process - n_jobs=1 - samples_per_chunk=30,000 - chunk_memory=468.75 KiB - total_memory=468.75 KiB - chunk_duration=1.00s\n"
     ]
    },
    {
     "data": {
      "application/vnd.jupyter.widget-view+json": {
       "model_id": "5ed3f9fd7fa2406e8e433435c6bff5bb",
       "version_major": 2,
       "version_minor": 0
      },
      "text/plain": [
       "write_binary_recording (no parallelization):   0%|          | 0/30 [00:00<?, ?it/s]"
      ]
     },
     "metadata": {},
     "output_type": "display_data"
    },
    {
     "name": "stdout",
     "output_type": "stream",
     "text": [
      "Data shape: (900000, 4)\n",
      "Data preprocessing done\n"
     ]
    },
    {
     "name": "stderr",
     "output_type": "stream",
     "text": [
      "Detecting Segments: 100%|██████████| 1/1 [00:00<00:00,  1.04it/s]\n",
      "Processing Segments: 100%|██████████| 1/1 [00:18<00:00, 18.36s/it]\n"
     ]
    }
   ],
   "source": [
    "# Run SimSort with spikeinterface\n",
    "sorting = run_sorter(\n",
    "    'simsort',\n",
    "    recording,\n",
    "    folder='test_simsort',\n",
    "    yaml_path=str(SIMSORT_PATH / 'SimSort.yaml'),\n",
    "    remove_existing_folder=True,\n",
    "    verbose=False,\n",
    ")"
   ]
  },
  {
   "cell_type": "code",
   "execution_count": 23,
   "metadata": {},
   "outputs": [
    {
     "data": {
      "application/vnd.jupyter.widget-view+json": {
       "model_id": "70a1d6ce8d8f4d95a81dba53d8becaf3",
       "version_major": 2,
       "version_minor": 0
      },
      "text/plain": [
       "estimate_sparsity (no parallelization):   0%|          | 0/30 [00:00<?, ?it/s]"
      ]
     },
     "metadata": {},
     "output_type": "display_data"
    },
    {
     "data": {
      "application/vnd.jupyter.widget-view+json": {
       "model_id": "afd7271b01a9444793184ec92ec9b107",
       "version_major": 2,
       "version_minor": 0
      },
      "text/plain": [
       "compute_waveforms (no parallelization):   0%|          | 0/30 [00:00<?, ?it/s]"
      ]
     },
     "metadata": {},
     "output_type": "display_data"
    },
    {
     "data": {
      "application/vnd.jupyter.widget-view+json": {
       "model_id": "5dcf9669525840ff8bb1abe87a4a5d88",
       "version_major": 2,
       "version_minor": 0
      },
      "text/plain": [
       "spike_amplitudes (no parallelization):   0%|          | 0/30 [00:00<?, ?it/s]"
      ]
     },
     "metadata": {},
     "output_type": "display_data"
    },
    {
     "name": "stderr",
     "output_type": "stream",
     "text": [
      "/home/v-yimuzhang/spikeinterface/src/spikeinterface/widgets/utils_sortingview.py:76: UserWarning: Some unit properties are not in the sorting: ['firing_rate' 'num_spikes' 'amplitude_median' 'snr' 'rp_violation']\n",
      "  warn(f\"Some unit properties are not in the sorting: {unit_properties[~keep]}\")\n"
     ]
    },
    {
     "name": "stdout",
     "output_type": "stream",
     "text": [
      "https://figurl.org/f?v=npm://@fi-sci/figurl-sortingview@12/dist&d=sha1://3e2327f25792c65e4b76d0bec88990c552e1ae77\n"
     ]
    },
    {
     "data": {
      "text/plain": [
       "<spikeinterface.widgets.sorting_summary.SortingSummaryWidget at 0x7e38543fab90>"
      ]
     },
     "execution_count": 23,
     "metadata": {},
     "output_type": "execute_result"
    }
   ],
   "source": [
    "sorting_analyzer = create_sorting_analyzer(sorting, recording)\n",
    "\n",
    "sorting_analyzer.compute('correlograms')\n",
    "sorting_analyzer.compute('random_spikes')\n",
    "sorting_analyzer.compute('waveforms')\n",
    "sorting_analyzer.compute('templates')\n",
    "sorting_analyzer.compute('spike_amplitudes')\n",
    "sorting_analyzer.compute('unit_locations')\n",
    "sorting_analyzer.compute('template_similarity')\n",
    "\n",
    "sw.plot_sorting_summary(sorting_analyzer=sorting_analyzer, curation=True, backend=\"sortingview\")"
   ]
  },
  {
   "cell_type": "code",
   "execution_count": null,
   "metadata": {},
   "outputs": [],
   "source": []
  }
 ],
 "metadata": {
  "kernelspec": {
   "display_name": "simsort-test",
   "language": "python",
   "name": "python3"
  },
  "language_info": {
   "codemirror_mode": {
    "name": "ipython",
    "version": 3
   },
   "file_extension": ".py",
   "mimetype": "text/x-python",
   "name": "python",
   "nbconvert_exporter": "python",
   "pygments_lexer": "ipython3",
   "version": "3.10.16"
  }
 },
 "nbformat": 4,
 "nbformat_minor": 2
}
